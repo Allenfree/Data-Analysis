{
 "cells": [
  {
   "cell_type": "markdown",
   "metadata": {},
   "source": [
    "# 5. 数据📊读写与预处理"
   ]
  },
  {
   "cell_type": "markdown",
   "metadata": {},
   "source": [
    "## 5.1 数据📊的读入"
   ]
  },
  {
   "cell_type": "code",
   "execution_count": null,
   "metadata": {
    "vscode": {
     "languageId": "r"
    }
   },
   "outputs": [],
   "source": [
    "# 5.1.1 直接输入数据📊\n",
    "# 1. c()函数\n",
    "x = c(1,2,3,4)\n",
    "x\n",
    "\n",
    "y = c(\"a\",\"b\",\"c\")\n",
    "y"
   ]
  },
  {
   "cell_type": "code",
   "execution_count": null,
   "metadata": {
    "vscode": {
     "languageId": "r"
    }
   },
   "outputs": [],
   "source": [
    "# 5.1.2 读R包中的数据\n",
    "# 要查看SemiPar包里自带数据📊\n",
    "# data(package = \"SemiPar\")\n",
    "\n",
    "# 如果需要读入SemiPar包里的copper数据，可以输入以下代码：\n",
    "# data(copper,package = \"SemiPar\")\n",
    "\n",
    "# 如果一个软件包已被library附加在库中，则这个数据库将自动被包含在其中，例如：\n",
    "# library(SemiPar)\n",
    "# data()\n",
    "# data(fossil)"
   ]
  },
  {
   "cell_type": "markdown",
   "metadata": {},
   "source": [
    "## 5.3 数据预处理"
   ]
  },
  {
   "cell_type": "code",
   "execution_count": null,
   "metadata": {
    "vscode": {
     "languageId": "r"
    }
   },
   "outputs": [],
   "source": [
    "# 5.3.1 变量预处理\n",
    "\n",
    "# 创建包含经济数据的向量\n",
    "cons <- c(5000, 5800, 6000, 10200, 8500)\n",
    "pop <- c(2000, 3600, 3500, 5020, 6100)\n",
    "gnp <- c(6000, 7200, 7400, 11000, 9200)\n",
    "\n",
    "# 直接进行变换\n",
    "pgnp <- gnp / pop  # 计算每个国家的人均国民生产总值\n",
    "psave <- (gnp - cons) / pop  # 计算每个国家的储蓄率\n",
    "\n",
    "# 用transform()函数进行变换\n",
    "data <- data.frame(gnp, cons, pop)\n",
    "transformed_data <- transform(data, pgnp = gnp / pop, psave = (gnp - cons) / pop)\n",
    "# 上面的transform()函数将计算结果添加到原始数据框中，并创建一个包含变换后数据的新数据框。\n",
    "\n",
    "# 用with()函数进行变换\n",
    "pgnp <- with(data, gnp / pop)  # 计算每个国家的人均国民生产总值\n",
    "psave <- with(data, (gnp - cons) / pop)  # 计算每个国家的储蓄率"
   ]
  },
  {
   "cell_type": "code",
   "execution_count": null,
   "metadata": {
    "vscode": {
     "languageId": "r"
    }
   },
   "outputs": [],
   "source": [
    "# 5.3.2 变量重编码\n",
    "# ①将连续性变量进行分组，变成一个离散型变量\n",
    "# ②将某个值替换成另外一个值\n",
    "#install.packages(\"MASS\")\n",
    "library(MASS)\n",
    "\n",
    "data(Cars93)\n",
    "dat<-data.frame(manu = Cars93$Manufacturer , price = Cars93$Price)\n",
    "head(dat)"
   ]
  },
  {
   "cell_type": "code",
   "execution_count": null,
   "metadata": {
    "vscode": {
     "languageId": "r"
    }
   },
   "outputs": [],
   "source": [
    "# 创建一个新的列pricegrade，并将其初始化为NA\n",
    "dat$pricegrade <- NA\n",
    "\n",
    "# 将价格大于等于20的行的pricegrade列设置为\"expensive\"，表示昂贵\n",
    "dat$pricegrade[dat$price >= 20] <- \"expensive\"\n",
    "\n",
    "# 将价格大于等于12且小于20的行的pricegrade列设置为\"okay\"，表示一般\n",
    "dat$pricegrade[dat$price >= 12 & dat$price < 20] <- \"okay\"\n",
    "\n",
    "# 将价格小于12的行的pricegrade列设置为\"cheap\"，表示便宜\n",
    "dat$pricegrade[dat$price < 12] <- \"cheap\"\n",
    "\n",
    "# 打印数据的前几行，以查看pricegrade列的更新\n",
    "head(dat)"
   ]
  },
  {
   "cell_type": "code",
   "execution_count": null,
   "metadata": {
    "vscode": {
     "languageId": "r"
    }
   },
   "outputs": [],
   "source": [
    "# 使用within函数，将下面的操作应用于数据框dat内部，以避免重复引用dat$price\n",
    "\n",
    "# 在数据框dat内部创建一个新列pricegrade，并将其初始化为NA\n",
    "dat <- within(dat, {\n",
    "    pricegrade <- NA\n",
    "\n",
    "    # 将价格大于等于20的行的pricegrade列设置为\"expensive\"，表示昂贵\n",
    "    pricegrade[price >= 20] <- \"expensive\"\n",
    "\n",
    "    # 将价格大于等于12且小于20的行的pricegrade列设置为\"okay\"，表示一般\n",
    "    pricegrade[price >= 12 & price < 20] <- \"okay\"\n",
    "\n",
    "    # 将价格小于12的行的pricegrade列设置为\"cheap\"，表示便宜\n",
    "    pricegrade[price < 12] <- \"cheap\"\n",
    "})\n",
    "\n",
    "# 打印数据的前几行，以查看pricegrade列的更新\n",
    "head(dat)"
   ]
  },
  {
   "cell_type": "code",
   "execution_count": null,
   "metadata": {
    "vscode": {
     "languageId": "r"
    }
   },
   "outputs": [],
   "source": [
    "# 创建一个新的列pricegrade，使用cut函数将价格划分为不同的区间，并将区间标签存储在pricegrade列中\n",
    "\n",
    "# 利用cut函数，将价格dat$price分成三个区间：[0,12]、(12,20]和(20,最大价格]，并将区间标签存储在pricegrade列中\n",
    "dat$pricegrade <- cut(dat$price, c(0, 12, 20, max(dat$price)))\n",
    "\n",
    "# 将区间标签中的值重新映射为\"cheap\"（便宜）、\"okay\"（一般）和\"expensive\"（昂贵）\n",
    "levels(dat$pricegrade) <- c(\"cheap\", \"okay\", \"expensive\")\n",
    "\n",
    "# 打印数据的前几行，以查看pricegrade列的更新\n",
    "head(dat)"
   ]
  },
  {
   "cell_type": "code",
   "execution_count": null,
   "metadata": {
    "vscode": {
     "languageId": "r"
    }
   },
   "outputs": [],
   "source": [
    "# 5.3.4 变量类型的转换\n",
    "\n",
    "# 创建一个数值向量a\n",
    "a <- c(1, 2, 3)\n",
    "\n",
    "# 打印向量a\n",
    "a\n",
    "\n",
    "# 检查向量a是否为数值类型\n",
    "is.numeric(a)\n",
    "\n",
    "# 检查向量a是否为向量类型\n",
    "is.vector(a)\n",
    "\n",
    "# 将向量a转换为字符类型，并将结果存储在a中\n",
    "a <- as.character(a)\n",
    "\n",
    "# 检查转换后的a是否仍然为数值类型\n",
    "is.numeric(a)\n",
    "\n",
    "# 检查转换后的a是否为向量类型\n",
    "is.vector(a)\n",
    "\n",
    "# 检查转换后的a是否为字符类型\n",
    "is.character(a)\n"
   ]
  },
  {
   "cell_type": "code",
   "execution_count": null,
   "metadata": {
    "vscode": {
     "languageId": "r"
    }
   },
   "outputs": [],
   "source": [
    "# 5.4.2 缺失数据的探索与检验\n",
    "y <- c(1,2,3,NA)\n",
    "is.na(y)\n",
    "\n",
    "#install.packages(\"VIM\")\n",
    "library(VIM)\n",
    "\n",
    "data(sleep, package= “VIM”) #读取VIM包中的sleep数据\n",
    "sleep[!complete.cases(sleep),] #提取sleep数据中不完整的行\n",
    "\n",
    "sum(!complete.cases(sleep))\n",
    "mean(complete.cases(sleep))"
   ]
  },
  {
   "cell_type": "code",
   "execution_count": null,
   "metadata": {
    "vscode": {
     "languageId": "r"
    }
   },
   "outputs": [],
   "source": [
    "# 5.4.3 缺失数据的处理\n",
    "#install.packages(\"mice\")\n",
    "\n",
    "# 导入mice包\n",
    "library(mice)\n",
    "\n",
    "# 从VIM包中加载sleep数据集\n",
    "data(sleep, package = \"VIM\")\n",
    "\n",
    "# 使用mice函数创建多重填充对象\n",
    "# seed参数用于设置随机种子，以便结果可重复\n",
    "imp <- mice(sleep, seed = 6666)\n",
    "\n",
    "# 使用analysis函数进行多重填充分析\n",
    "fit <- with(imp, lm(Dream ~ Span + Gest))\n",
    "\n",
    "# 使用pool函数汇总多重填充的结果\n",
    "pooled <- pool(fit)\n",
    "\n",
    "# 打印多重填充结果的摘要统计\n",
    "summary(pooled)"
   ]
  },
  {
   "cell_type": "markdown",
   "metadata": {},
   "source": [
    "## 5.5 数据集的合并与拆分"
   ]
  },
  {
   "cell_type": "code",
   "execution_count": null,
   "metadata": {
    "vscode": {
     "languageId": "r"
    }
   },
   "outputs": [],
   "source": [
    "# 5.5.1 数据框的合并与拆分\n",
    "data(“PlantGrowth”)\n",
    "PlantGrowth #为了直观，将其重新排列"
   ]
  },
  {
   "cell_type": "code",
   "execution_count": null,
   "metadata": {
    "vscode": {
     "languageId": "r"
    }
   },
   "outputs": [],
   "source": [
    "# 导入PlantGrowth数据集\n",
    "data(PlantGrowth)\n",
    "\n",
    "# 使用unstack函数将PlantGrowth数据集从宽格式转换为长格式\n",
    "unPG <- unstack(PlantGrowth)\n",
    "\n",
    "# 打印转换后的长格式数据\n",
    "unPG\n",
    "\n",
    "# 使用stack函数将长格式数据重新转换为宽格式\n",
    "sPG <- stack(unPG)\n",
    "\n",
    "# 打印重新转换后的宽格式数据\n",
    "sPG"
   ]
  }
 ],
 "metadata": {
  "kernelspec": {
   "display_name": "R",
   "language": "R",
   "name": "ir"
  },
  "language_info": {
   "codemirror_mode": "r",
   "file_extension": ".r",
   "mimetype": "text/x-r-source",
   "name": "R",
   "pygments_lexer": "r",
   "version": "4.3.1"
  }
 },
 "nbformat": 4,
 "nbformat_minor": 2
}
