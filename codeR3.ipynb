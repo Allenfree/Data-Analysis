{
 "cells": [
  {
   "cell_type": "markdown",
   "metadata": {},
   "source": [
    "# 第四章 随机数与抽样模拟 P54"
   ]
  },
  {
   "cell_type": "markdown",
   "metadata": {},
   "source": [
    "## 4.1 一元随机数的产生"
   ]
  },
  {
   "cell_type": "code",
   "execution_count": null,
   "metadata": {
    "vscode": {
     "languageId": "r"
    }
   },
   "outputs": [],
   "source": [
    "# 4.1.1 均匀分布随机数\n",
    "runif(3,1,3) #生成3个[1,3]的均匀分布随机数\n",
    "runif(5) #默认生成5个[0,1]上的均匀分布的随机数"
   ]
  },
  {
   "cell_type": "code",
   "execution_count": null,
   "metadata": {
    "vscode": {
     "languageId": "r"
    }
   },
   "outputs": [],
   "source": [
    "set.seed(1) #种子取一样，生成的随机数相同\n",
    "runif(5)"
   ]
  },
  {
   "cell_type": "code",
   "execution_count": null,
   "metadata": {
    "vscode": {
     "languageId": "r"
    }
   },
   "outputs": [],
   "source": [
    "Nsim = 10^3\n",
    "x = runif(Nsim)\n",
    "x1 = x[-Nsim] #因为要求自相关系数，去掉最后一个数\n",
    "x2 = x[-1] #去掉第一个数\n",
    "par(mfrow = c(1,3))\n",
    "hist(x,prov=T,col = gray(0.3),main=\"uniform on [0,1]\") #直方图📊\n",
    "curve(dunif(x,0,1),add=T,col=\"red\") #添加均匀分布密度函数线\n",
    "plot(x1,x2,col=\"red\")\n",
    "acf(x) #画自相关系数图\n"
   ]
  },
  {
   "cell_type": "code",
   "execution_count": null,
   "metadata": {
    "vscode": {
     "languageId": "r"
    }
   },
   "outputs": [],
   "source": [
    "#4.1.2 正态分布随机数\n",
    "rnorm(5,10,5) #产生五个均值为10，标准差为5的正态分布随机数\n",
    "rnorm(5) #默认五个生成标准正态分布随机数"
   ]
  },
  {
   "cell_type": "code",
   "execution_count": null,
   "metadata": {
    "vscode": {
     "languageId": "r"
    }
   },
   "outputs": [],
   "source": [
    "x = rnorm(100)\n",
    "hist(x,prob=T,main=\"normal mu=0,sigma=1\") #作直方图📊\n",
    "curve(dnorm(x),add=T) #在直方图📊上添加标准正态分布密度函数线"
   ]
  },
  {
   "cell_type": "code",
   "execution_count": null,
   "metadata": {
    "vscode": {
     "languageId": "r"
    }
   },
   "outputs": [],
   "source": [
    "# 4.1.3 指数分布随机数\n",
    "x = rexp(100,1/10) #生成100个均值为10的指数分布随机数\n",
    "hist(x,prob=T,col=gray(0.9),main=\"An exponentially distributed random number with a mean of 10\")\n",
    "curve(dexp(x,1/10),add=T)"
   ]
  },
  {
   "cell_type": "code",
   "execution_count": null,
   "metadata": {
    "vscode": {
     "languageId": "r"
    }
   },
   "outputs": [],
   "source": [
    "Nsim = 10^4\n",
    "U = runif(Nsim)\n",
    "X = -log(U)\n",
    "Y = rexp(Nsim)\n",
    "par(mfrow = c(1,2))\n",
    "hist(X , freq = F , main = \"Exp from Uniform\")\n",
    "curve(dexp(x,1),add=T,col=\"red\")\n",
    "hist(Y,freq=F,main=\"Exp from R\")\n",
    "curve(dexp(x,1),add=T,col=\"red\")"
   ]
  },
  {
   "cell_type": "code",
   "execution_count": null,
   "metadata": {
    "vscode": {
     "languageId": "r"
    }
   },
   "outputs": [],
   "source": [
    "# 4.1.4 离散分布随机数的生成\n",
    "size = 1;p = 0.5\n",
    "rbinom(10,size,p)\n",
    "\n",
    "size = 10; p = 0.5\n",
    "rbinom(5,size,p) #生成5个服从B(10,0.5)的二项分布随机数"
   ]
  },
  {
   "cell_type": "code",
   "execution_count": null,
   "metadata": {
    "vscode": {
     "languageId": "r"
    }
   },
   "outputs": [],
   "source": [
    "par(mfrow=c(1,3))\n",
    "p = 0.25\n",
    "for( n in c(10,20,50))\n",
    "{ x = rbinom(100,n,p)\n",
    "    hist(x,prob=T,main=paste(\"n =\" , n))\n",
    "    xvals=0:n\n",
    "    points(xvals,dbinom(xvals,n,p),type=\"h\",lwd=3)\n",
    "}\n",
    "par(mfrow=c(1,1))"
   ]
  },
  {
   "cell_type": "markdown",
   "metadata": {},
   "source": [
    "## 4.2 多元随机数的生成"
   ]
  },
  {
   "cell_type": "code",
   "execution_count": null,
   "metadata": {
    "vscode": {
     "languageId": "r"
    }
   },
   "outputs": [],
   "source": [
    "# 4.2.1 多元正态分布随机数\n",
    "library(MASS) #载入MASS包\n",
    "Sigma <- matrix(c(10,3,3,2),2,2)\n",
    "Sigma\n",
    "\n",
    "x = mvrnorm(n = 1000 , rep(0,2) , Sigma)\n",
    "head(x)\n",
    "\n",
    "var(x)"
   ]
  },
  {
   "cell_type": "code",
   "execution_count": null,
   "metadata": {
    "vscode": {
     "languageId": "r"
    }
   },
   "outputs": [],
   "source": [
    "# install.packages(\"MASS\")\n",
    "library(MASS)\n",
    "\n",
    "sigma <- matrix(c(10,3,3,2), ncol = 2)\n",
    "x <- mvrnorm(n = 500, mu = c(1,2), Sigma = sigma)\n",
    "head(x)\n",
    "\n",
    "colMeans(x)\n",
    "\n",
    "var(x)\n",
    "\n",
    "plot(x)\n",
    "\n",
    "#Mvnorm 包并不存在。可能是想使用 MASS 包中的 mvrnorm 函数。\n",
    "#在 MASS 包中，多元正态分布的随机数生成函数是 mvrnorm，而不是 rmvnorm。\n"
   ]
  },
  {
   "cell_type": "code",
   "execution_count": null,
   "metadata": {
    "vscode": {
     "languageId": "r"
    }
   },
   "outputs": [],
   "source": [
    "# 安装并加载mvtnorm包\n",
    "# install.packages(\"mvtnorm\")\n",
    "library(mvtnorm)\n",
    "\n",
    "# 4.2.2 多元正态分布密度函数/分位数与累积概率\n",
    "(mean <- rep(0,5)) #均值向量\n",
    "(lower <- rep(-1,5)) #下限\n",
    "(upper <- rep(3,5)) #上限\n",
    "(corr <- diag(5)) #相关系数矩阵\n",
    "\n",
    "(corr[lower.tri(corr)] <- 0.5) #相关系数矩阵下三角用0.5赋值\n",
    "(corr[upper.tri(corr)] <- 0.5) #相关系数矩阵上三角用0.5赋值\n",
    "corr\n",
    "\n",
    "(prob <- pmvnorm(lower = lower, upper = upper, mean = mean, sigma = corr))\n",
    "\n",
    "# 如果想查看计算的误差和方法，可以使用以下代码：\n",
    "attr(prob, \"error\")\n",
    "attr(prob, \"msg\")\n"
   ]
  },
  {
   "cell_type": "code",
   "execution_count": null,
   "metadata": {
    "vscode": {
     "languageId": "r"
    }
   },
   "outputs": [],
   "source": [
    "# 4.2.3 多元t分布随机数\n",
    "sigma = diag(2) + 1\n",
    "sigma\n",
    "\n",
    "x2 <- rmvt(n = 1000,df = 5 , sigma = sigma)\n",
    "head(x2)\n",
    "plot(x2)"
   ]
  },
  {
   "cell_type": "markdown",
   "metadata": {},
   "source": [
    "## 4.3 随机抽样"
   ]
  },
  {
   "cell_type": "code",
   "execution_count": null,
   "metadata": {
    "vscode": {
     "languageId": "r"
    }
   },
   "outputs": [],
   "source": [
    "# 4.3.1 放回与无放回抽样\n",
    "sample(1:6,10,rep=T)\n",
    "\n",
    "sample(100,10) #从100个产品中无放回随机抽取10个\n",
    "\n",
    "dice = as.vector(outer(1:6,1:6,paste)) #掷两颗六面的骰子\n",
    "sample(dice,5,replace=T) #重复五次\n",
    "\n",
    "dice = as.vector(outer(1:6,1:6,paste)) #掷两颗六面的骰子的可能结果\n",
    "dice"
   ]
  },
  {
   "cell_type": "code",
   "execution_count": null,
   "metadata": {
    "vscode": {
     "languageId": "r"
    }
   },
   "outputs": [],
   "source": [
    "# 4.3.2 bootstrap重抽样\n",
    "faithful #读入内置数据📊\n",
    "\n",
    "attach(faithful) #数据绑定\n",
    "sample(eruptions,10,replace = T) #从数据中抽取一个样本量为10的子样本\n",
    "\n",
    "Sample = sample(eruptions,1000,rep=T) #抽取一个样本量为1000的bootstrap样本\n",
    "par(mfrow = c(1,2)) #设置作图窗口为一行两列\n",
    "hist(eruptions , breaks = 25)\n",
    "hist(Sample,breaks = 25)\n",
    "par(mfrow = c(1,1)) # 设置作图窗口为一行一列"
   ]
  },
  {
   "cell_type": "markdown",
   "metadata": {},
   "source": [
    "## 4.4 统计📉模拟"
   ]
  },
  {
   "cell_type": "code",
   "execution_count": null,
   "metadata": {
    "vscode": {
     "languageId": "r"
    }
   },
   "outputs": [],
   "source": [
    "# 4.4.1 几种常见的模拟方法\n",
    "n = 10; p = 0.25\n",
    "z = rbinom(1,n,p)\n",
    "x = (x-n*p)/sqrt(n*p*(1-p))"
   ]
  },
  {
   "cell_type": "code",
   "execution_count": null,
   "metadata": {
    "vscode": {
     "languageId": "r"
    }
   },
   "outputs": [],
   "source": [
    "m = 100 #m为模拟次数\n",
    "n = 10 ; p = 0.25\n",
    "z = rbinom(m,n,p) #产生100个二项随机数\n",
    "x = (z-n*p)/sqrt(n*p*(1-p)) #对100个二项随机数标准化\n",
    "hist(x,prob = T,main = paste(\"n =\",n))\n",
    "curve(dnorm(x),add = T) #添加正态曲线"
   ]
  },
  {
   "cell_type": "code",
   "execution_count": null,
   "metadata": {
    "vscode": {
     "languageId": "r"
    }
   },
   "outputs": [],
   "source": [
    "# 用函数来进行模拟\n",
    "sim.clt <- function (m = 100 , n = 10 , p = 0.25)\n",
    "{ z = rbinom(m,n,p)\n",
    "    x = (z-n*p) / sqrt(n*p*(1-p))\n",
    "    hist(x,prob = T , breaks = 20 , main = paste(\"n =\" , n , \"p =\",p))\n",
    "    curve(dnorm(x),add=T)\n",
    "}\n",
    "sim.clt() #默认m=100，n=10，p=0.25\n",
    "sim.clt(1000) #取m=1000,n=10,p=0.25\n",
    "sim.clt(1000,30) #取m=1000,n=30,p=0.25\n",
    "sim.clt(1000,30,0.5) #取m=1000,n=10,p=0.5"
   ]
  },
  {
   "cell_type": "code",
   "execution_count": null,
   "metadata": {
    "vscode": {
     "languageId": "r"
    }
   },
   "outputs": [],
   "source": [
    "par(mfrow = c(2,2)) #设置2行2列的作图窗口\n",
    "x = rnorm(100,0,1); qqnorm(x,main=\"N(0,1)\");qqline(x) #画QQ图并添加qq线\n",
    "x = rnorm(100,10,25); qqnorm(x,main=\"N(10,25)\");qqline(x)\n",
    "x = rexp(100,1/10); qqnorm(x,main=\"exp(0.1)\");qqline(x)\n",
    "x = runif(100,0,1); qqnorm(x,main=\"U(0,1)\");qqline(x)\n",
    "par(mfrow = c(1,1))"
   ]
  },
  {
   "cell_type": "code",
   "execution_count": null,
   "metadata": {
    "vscode": {
     "languageId": "r"
    }
   },
   "outputs": [],
   "source": [
    "# 4.4.2 模拟函数的建立方法\n",
    "sim.fun <- function(m,f,...) #m为模拟样本次数，f为需模拟的函数\n",
    "{\n",
    "    sample <- numeric(m) # 初始化长度为m的数值向量\n",
    "    for(i in 1:m){\n",
    "        sample[i] <- f(...)\n",
    "    }\n",
    "    sample\n",
    "}\n",
    "\n",
    "# 二项分布\n",
    "f <- function(n = 10,p = 0.5){s = rbinom(1,n,p);(s-n*p)/sqrt(n*p*(1-p))}\n",
    "\n",
    "x = sim.fun(1000,f) #模拟1000个二项随机数\n",
    "hist(x,prob = T)\n",
    "\n",
    "\n",
    "# 均匀分布\n",
    "f = function(n = 10) (mean(runif(n) - 1/2) / (1/sqrt(12*n)))\n",
    "x = sim.fun(1000,f) #模拟1000个均匀随机数\n",
    "hist(x,prob = T)\n",
    "\n",
    "# 正态分布\n",
    "f = function(n = 10,mu = 0,sigma = 1){r = rnorm(n,mu,sigma);(mean(r)-mu)/(sigma/sqrt(n))}\n",
    "x = sim.fun(1000,f) #模拟1000个样本量为10的N(0,1)随机数\n",
    "hist(x,breaks = 10 , prob = T)\n",
    "\n",
    "x = sim.fun(1000,f,30,5,2) #模拟1000个样本量为30的N(5,2)随机数\n",
    "hist(x,breaks = 10,prob = T)\n",
    "\n",
    "# 指数分布\n",
    "f <- function(n,mu=10)(mean(rexp(n,1/mu)-mu))/(mu/sqrt(n))"
   ]
  },
  {
   "cell_type": "code",
   "execution_count": 10,
   "metadata": {
    "vscode": {
     "languageId": "r"
    }
   },
   "outputs": [
    {
     "data": {
      "image/png": "[encoded data removed]",
      "text/plain": [
       "Plot with title \"n=30\""
      ]
     },
     "metadata": {
      "image/png": {
       "height": 420,
       "width": 420
      }
     },
     "output_type": "display_data"
    }
   ],
   "source": [
    "# 例4.9\n",
    "x = seq(-3,3,0.01)\n",
    "par(mfrow = c(2,2))\n",
    "hist(sim.fun(100,f,1,10),prob = T,main=\"n=1\")\n",
    "points(x,dnorm(x,0,1),type=\"l\")\n",
    "hist(sim.fun(100,f,5,10),prob = T,main=\"n=5\")\n",
    "points(x,dnorm(x,0,1),type=\"l\")\n",
    "hist(sim.fun(100,f,10,10),prob = T,main=\"n=10\")\n",
    "points(x,dnorm(x,0,1),type=\"l\")\n",
    "hist(sim.fun(100,f,30,10),prob = T,main=\"n=30\")\n",
    "points(x,dnorm(x,0,1),type=\"l\")\n",
    "par(mfrow = c(1,1))\n",
    "\n"
   ]
  }
 ],
 "metadata": {
  "kernelspec": {
   "display_name": "R",
   "language": "R",
   "name": "ir"
  },
  "language_info": {
   "codemirror_mode": "r",
   "file_extension": ".r",
   "mimetype": "text/x-r-source",
   "name": "R",
   "pygments_lexer": "r",
   "version": "4.3.1"
  }
 },
 "nbformat": 4,
 "nbformat_minor": 2
}
