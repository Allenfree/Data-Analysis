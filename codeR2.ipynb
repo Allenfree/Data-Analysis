{
 "cells": [
  {
   "cell_type": "markdown",
   "metadata": {},
   "source": [
    "# 第三章 函数与优化 P38"
   ]
  },
  {
   "cell_type": "code",
   "execution_count": null,
   "metadata": {
    "vscode": {
     "languageId": "r"
    }
   },
   "outputs": [],
   "source": [
    "x <- 3\n",
    "if(x>2) y=2*x else y=3*x #假如x大于2，则返回2*x，否则返回3*x\n",
    "y"
   ]
  },
  {
   "cell_type": "code",
   "execution_count": null,
   "metadata": {
    "vscode": {
     "languageId": "r"
    }
   },
   "outputs": [],
   "source": [
    "x <- 1.5\n",
    "if(x>2) y=2*x else y=3*x \n",
    "y"
   ]
  },
  {
   "cell_type": "markdown",
   "metadata": {},
   "source": [
    "3.2.2 ifelse语句"
   ]
  },
  {
   "cell_type": "code",
   "execution_count": null,
   "metadata": {
    "vscode": {
     "languageId": "r"
    }
   },
   "outputs": [],
   "source": [
    "x <- 1\n",
    "ifelse(x>2 , y<-2*x , y<-3*x) #假如x大于2，则返回2*x，否则返回3*x"
   ]
  },
  {
   "cell_type": "code",
   "execution_count": null,
   "metadata": {
    "vscode": {
     "languageId": "r"
    }
   },
   "outputs": [],
   "source": [
    "switch(1,2*3,sd(1:5),runif(3)) #返回(2*3,sd(1:5),runif(3))list 中的第一个成分\n",
    "\n",
    "switch(2,2*3,sd(1:5),runif(3)) #返回第二个成分\n",
    "\n",
    "switch(3,2*3,sd(1:5),runif(3)) #返回第三个成分"
   ]
  },
  {
   "cell_type": "code",
   "execution_count": null,
   "metadata": {
    "vscode": {
     "languageId": "r"
    }
   },
   "outputs": [],
   "source": [
    "x <- \"meat\"\n",
    "switch(x,meat=\"chicken\",fruit=\"apple\",vegetable=\"potato\")"
   ]
  },
  {
   "cell_type": "markdown",
   "metadata": {},
   "source": [
    "## 3.3 循环语句"
   ]
  },
  {
   "cell_type": "code",
   "execution_count": null,
   "metadata": {
    "vscode": {
     "languageId": "r"
    }
   },
   "outputs": [],
   "source": [
    "Fibonacci<-NULL #生成一个空置向量\n",
    "Fibonacci[1] <- Fibonacci[2] <- 1 #Fibonacci向量的第一个和第二个元素赋值为1\n",
    "n=16\n",
    "for(i in 3:n) Fibonacci[i] <- Fibonacci[i-2] + Fibonacci[i-1] #用for执行循环语句\n",
    "Fibonacci"
   ]
  },
  {
   "cell_type": "code",
   "execution_count": null,
   "metadata": {
    "vscode": {
     "languageId": "r"
    }
   },
   "outputs": [],
   "source": [
    "Fibonacci[1] <- Fibonacci[2] <- 1 #Fibonacci向量的第一和第二个元素赋值为1\n",
    "i <- 1\n",
    "while (Fibonacci[i]+Fibonacci[i+1]<1000){   #用while执行循环语句\n",
    "    Fibonacci[i+2] <- Fibonacci[i]+Fibonacci[i+1]\n",
    "    i <- i+1}\n",
    "Fibonacci"
   ]
  },
  {
   "cell_type": "markdown",
   "metadata": {},
   "source": [
    "3.3.3 repeat语句"
   ]
  },
  {
   "cell_type": "code",
   "execution_count": null,
   "metadata": {
    "vscode": {
     "languageId": "r"
    }
   },
   "outputs": [],
   "source": [
    "Fibonacci[1] <- Fibonacci[2] <- 1 #Fibonacci向量的第一个和第二个元素赋值为1\n",
    "i <- 1\n",
    "repeat{  ##用repeat执行循环语句\n",
    "    Fibonacci[i+2] <- Fibonacci[i] +Fibonacci[i+1]\n",
    "    i <- i+1\n",
    "    if (Fibonacci[i] + Fibonacci[i+1] >= 1000) break\n",
    "}\n",
    "Fibonacci"
   ]
  },
  {
   "cell_type": "markdown",
   "metadata": {},
   "source": [
    "## 3.4 编写自己的函数 P41"
   ]
  },
  {
   "cell_type": "code",
   "execution_count": null,
   "metadata": {
    "vscode": {
     "languageId": "r"
    }
   },
   "outputs": [],
   "source": [
    "std = function(x) {sqrt(var(x))}\n",
    "std = function(x) sqrt(var(x))\n",
    "\n",
    "x = c(1,3,5,7,9)\n",
    "std(x)"
   ]
  },
  {
   "cell_type": "code",
   "execution_count": null,
   "metadata": {
    "vscode": {
     "languageId": "r"
    }
   },
   "outputs": [],
   "source": [
    "welcome = function() print(\"Welcome to use R\")\n",
    "welcome()\n",
    "\n",
    "welcome.sb = function(names) print(paste(\"welcome\",names,\"to use R\"))\n",
    "welcome.sb(\"Mr fang\")"
   ]
  },
  {
   "cell_type": "code",
   "execution_count": null,
   "metadata": {
    "vscode": {
     "languageId": "r"
    }
   },
   "outputs": [],
   "source": [
    "sim.t = function(n){\n",
    "mu = 10;sigma=5;\n",
    "x = rnorm(n,mu,sigma) #生成n个均值mu，标准差为sigma的正态分布随机数\n",
    "(mean(x)-mu)/(sd(x)/sqrt(n))\n",
    "}\n",
    "sim.t(5)"
   ]
  },
  {
   "cell_type": "code",
   "execution_count": null,
   "metadata": {
    "vscode": {
     "languageId": "r"
    }
   },
   "outputs": [],
   "source": [
    "sim.t = function(n,mu = 10,sigma = 5){\n",
    "x = rnorm(n,mu,sigma)\n",
    "(mean(x)-mu)/(sd(x)/sqrt(n))\n",
    "}\n",
    "sim.t(5) #样本含量为5，均值为10，标准差为5\n",
    "sim.t(5,0,1) #样本含量为5，均值为0，标准差为1\n",
    "sim.t(5,4) #样本含量为5，均值为4，标准差为5\n",
    "sim.t(5,sigma=100) ##样本含量为5，均值为10，标准差为100\n",
    "sim.t(5,sigma=100,mu=1) #样本含量为5，均值为1，标准差为100"
   ]
  },
  {
   "cell_type": "code",
   "execution_count": null,
   "metadata": {
    "vscode": {
     "languageId": "r"
    }
   },
   "outputs": [],
   "source": [
    "plot.f = function (f, a, b, ...){\n",
    "  xvals = seq(a, b, length = 100) #生成100个[a,b]区间内的数列\n",
    "  plot(xvals, f(xvals), type=\"l\", ...) #作横坐标为xvals，纵坐标为f(xvals)的函数图\n",
    "}\n",
    "plot.f(sin, 0, 2*pi) #作0到2π的正弦曲线\n",
    "\n",
    "# 这个函数的功能实际上等同于R内置函数curve\n",
    "curve(sin, 0, 2*pi) #作0到2π的正弦曲线\n",
    "\n",
    "plot.f(exp,-1,1) #作-1到1的指数曲线\n",
    "plot.f(log,0,1) #作0到1的对数曲线"
   ]
  },
  {
   "cell_type": "markdown",
   "metadata": {},
   "source": [
    "\"p\": 画点。\n",
    "\"l\": 画线。\n",
    "\"b\": 既画点又画线。\n",
    "\"c\": 只画连接线，不画点。"
   ]
  },
  {
   "cell_type": "markdown",
   "metadata": {},
   "source": [
    "3.4.4 函数体和函数返回值"
   ]
  },
  {
   "cell_type": "code",
   "execution_count": null,
   "metadata": {
    "vscode": {
     "languageId": "r"
    }
   },
   "outputs": [],
   "source": [
    "my.average = function(x) sum(x)/length(x)\n",
    "my.average(c(1,2,3))"
   ]
  },
  {
   "cell_type": "code",
   "execution_count": null,
   "metadata": {
    "vscode": {
     "languageId": "r"
    }
   },
   "outputs": [],
   "source": [
    "vms = function(x){\n",
    "    xx=rev(sort(x)) #对x向量从小到大排序，然后用rev()转成从大到小排序\n",
    "    xx=xx[1：5] #提取前面5个元素\n",
    "    mean(xx) #求均值\n",
    "    return(list(xbar=mean(xx),top5 = xx)) #返回均值和最大的5个数\n",
    "}\n",
    "y = c(5,15,32,25,26,28,65,48,3,37,45,54,23,44)\n",
    "vms(y) #利用自己编写的函数vms()"
   ]
  },
  {
   "cell_type": "markdown",
   "metadata": {},
   "source": [
    "## 3.6 程序运行时间与效率"
   ]
  },
  {
   "cell_type": "code",
   "execution_count": null,
   "metadata": {
    "vscode": {
     "languageId": "r"
    }
   },
   "outputs": [],
   "source": [
    "proc.time()"
   ]
  },
  {
   "cell_type": "code",
   "execution_count": null,
   "metadata": {
    "vscode": {
     "languageId": "r"
    }
   },
   "outputs": [],
   "source": [
    "system.time(for(i in 1:100) mad (runif(1000)))"
   ]
  },
  {
   "cell_type": "code",
   "execution_count": null,
   "metadata": {
    "vscode": {
     "languageId": "r"
    }
   },
   "outputs": [],
   "source": [
    "ptm <- proc.time() #将proc.time()的返回值保存到ptm对象里\n",
    "for (i in 1:100) mad(runif(1000))\n",
    "proc.time()-ptm #两者的差即运行程序所需的时间"
   ]
  },
  {
   "cell_type": "code",
   "execution_count": null,
   "metadata": {
    "vscode": {
     "languageId": "r"
    }
   },
   "outputs": [],
   "source": [
    "ptm <- proc.time()\n",
    "x <- rnorm(100000)\n",
    "y <- rnorm(100000)\n",
    "z <- c()\n",
    "for (i in 1:100000){\n",
    "    z <- c(z,x[i]+y[i])\n",
    "}\n",
    "proc.time()-ptm\n",
    "#这写的就是狗屎"
   ]
  },
  {
   "cell_type": "code",
   "execution_count": null,
   "metadata": {
    "vscode": {
     "languageId": "r"
    }
   },
   "outputs": [],
   "source": [
    "ptm <- proc.time()\n",
    "z <- rep(NA,100000)\n",
    "for (i in 1:100000){\n",
    "    z[i] <- x[i]+y[i]\n",
    "}\n",
    "proc.time()-ptm"
   ]
  },
  {
   "cell_type": "markdown",
   "metadata": {},
   "source": [
    "## 3.7用R做优化求解"
   ]
  },
  {
   "cell_type": "code",
   "execution_count": null,
   "metadata": {
    "vscode": {
     "languageId": "r"
    }
   },
   "outputs": [],
   "source": [
    "# 3.7.1 一元函数优化求解\n",
    "f = function(x) log(x)-x^2 #编写f函数\n",
    "curve(f,xlim=c(0,2)) #作f函数在(0,2)区间上的图\n",
    "optimize(f,c(0.1,10),tol=0.0001,maximum = T) #求f函数的最大值的返回结果"
   ]
  },
  {
   "cell_type": "code",
   "execution_count": null,
   "metadata": {
    "vscode": {
     "languageId": "r"
    }
   },
   "outputs": [],
   "source": [
    "#3.7.2 多元函数优化求解\n",
    "# 定义x1和x2的序列\n",
    "x1 = x2 = seq(-10, 10, length = 100)\n",
    "\n",
    "# 定义函数fr2，用于计算函数值\n",
    "fr2 = function(x1, x2){\n",
    "    (x1^2 + x2 - 11)^2 + (x1 + x2^2 - 7)^2\n",
    "}\n",
    "\n",
    "# 定义函数grr，用于计算梯度\n",
    "grr = function(x){\n",
    "    x1 = x[1]\n",
    "    x2 = x[2]\n",
    "    dfdx1 = 2 * (2*x1*(x1^2 + x2 - 11) + (x1 + x2^2 - 7))\n",
    "    dfdx2 = 2 * (x1^2 + x2 - 11 + 2*x2*(x1 + x2^2 - 7))\n",
    "    c(dfdx1, dfdx2)\n",
    "}\n",
    "\n",
    "# 使用outer函数计算z的值\n",
    "z = outer(x1, x2, fr2)\n",
    "\n",
    "# 绘制图像\n",
    "image(x1, x2, z)\n",
    "contour(x1, x2, z, add=T)   # 画等高线\n",
    "persp(x1, x2, z)           # 画三维线\n",
    "persp(x1, x2, z, box=T, border=T, theta=45, phi=35)\n"
   ]
  }
 ],
 "metadata": {
  "kernelspec": {
   "display_name": "R",
   "language": "R",
   "name": "ir"
  },
  "language_info": {
   "codemirror_mode": "r",
   "file_extension": ".r",
   "mimetype": "text/x-r-source",
   "name": "R",
   "pygments_lexer": "r",
   "version": "4.3.1"
  }
 },
 "nbformat": 4,
 "nbformat_minor": 2
}
